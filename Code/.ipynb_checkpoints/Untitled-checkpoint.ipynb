{
 "cells": [
  {
   "cell_type": "code",
   "execution_count": 1,
   "metadata": {},
   "outputs": [],
   "source": [
    "from pyspark.sql import SparkSession\n",
    "from pyspark.sql.functions import *\n",
    "from pyspark.sql.types import *\n",
    "\n",
    "KAFKA_TOPIC_NAME_CONS = \"transactionrequest\"\n",
    "KAFKA_OUTPUT_TOPIC_NAME_CONS = \"transactiondetail\"\n",
    "KAFKA_BOOTSTRAP_SERVERS_CONS = 'localhost:9092'"
   ]
  },
  {
   "cell_type": "code",
   "execution_count": 2,
   "metadata": {},
   "outputs": [
    {
     "name": "stdout",
     "output_type": "stream",
     "text": [
      "PySpark Structured Streaming with Kafka Demo Application Started ...\n"
     ]
    }
   ],
   "source": [
    "if __name__ == \"__main__\":\n",
    "    print(\"PySpark Structured Streaming with Kafka Demo Application Started ...\")\n",
    "\n",
    "    spark = SparkSession \\\n",
    "        .builder \\\n",
    "        .appName(\"PySpark Structured Streaming with Kafka Demo\") \\\n",
    "        .master(\"local[*]\") \\\n",
    "        .config(\"spark.jars\", \"spark-sql-kafka-0-10_2.11-2.4.0.jar,kafka-clients-1.1.0.jar\") \\\n",
    "        .getOrCreate()\n",
    "\n",
    "    spark.sparkContext.setLogLevel(\"ERROR\")"
   ]
  },
  {
   "cell_type": "code",
   "execution_count": 3,
   "metadata": {},
   "outputs": [],
   "source": [
    "transaction_detail_df = spark \\\n",
    "        .readStream \\\n",
    "        .format(\"kafka\") \\\n",
    "        .option(\"kafka.bootstrap.servers\", KAFKA_BOOTSTRAP_SERVERS_CONS) \\\n",
    "        .option(\"subscribe\", KAFKA_TOPIC_NAME_CONS) \\\n",
    "        .option(\"startingOffsets\", \"latest\") \\\n",
    "        .load()"
   ]
  },
  {
   "cell_type": "code",
   "execution_count": 4,
   "metadata": {},
   "outputs": [
    {
     "name": "stdout",
     "output_type": "stream",
     "text": [
      "root\n",
      " |-- key: binary (nullable = true)\n",
      " |-- value: binary (nullable = true)\n",
      " |-- topic: string (nullable = true)\n",
      " |-- partition: integer (nullable = true)\n",
      " |-- offset: long (nullable = true)\n",
      " |-- timestamp: timestamp (nullable = true)\n",
      " |-- timestampType: integer (nullable = true)\n",
      "\n"
     ]
    }
   ],
   "source": [
    "transaction_detail_df.printSchema()"
   ]
  },
  {
   "cell_type": "code",
   "execution_count": 5,
   "metadata": {},
   "outputs": [],
   "source": [
    "transaction_detail_df1 = transaction_detail_df.selectExpr(\"CAST(value AS STRING)\", \"timestamp\")"
   ]
  },
  {
   "cell_type": "code",
   "execution_count": 6,
   "metadata": {},
   "outputs": [
    {
     "data": {
      "text/plain": [
       "DataFrame[value: string, timestamp: timestamp]"
      ]
     },
     "execution_count": 6,
     "metadata": {},
     "output_type": "execute_result"
    }
   ],
   "source": [
    "transaction_detail_df1"
   ]
  },
  {
   "cell_type": "code",
   "execution_count": 7,
   "metadata": {},
   "outputs": [],
   "source": [
    "   transaction_detail_schema = StructType() \\\n",
    "        .add(\"transaction_id\", StringType()) \\\n",
    "        .add(\"user_id\", StringType()) \\\n",
    "        .add(\"card_number\", StringType()) \\\n",
    "        .add(\"amount\", StringType()) \\\n",
    "        .add(\"description\", StringType()) \\\n",
    "        .add(\"transaction_type\", StringType()) \\\n",
    "        .add(\"vendor\", StringType()) \\"
   ]
  },
  {
   "cell_type": "code",
   "execution_count": 8,
   "metadata": {},
   "outputs": [],
   "source": [
    "transaction_detail_df2 = transaction_detail_df1\\\n",
    ".select(from_json(col(\"value\"), transaction_detail_schema).alias(\"transaction_detail\"), \"timestamp\")"
   ]
  },
  {
   "cell_type": "code",
   "execution_count": 9,
   "metadata": {},
   "outputs": [
    {
     "data": {
      "text/plain": [
       "DataFrame[transaction_detail: struct<transaction_id:string,user_id:string,card_number:string,amount:string,description:string,transaction_type:string,vendor:string>, timestamp: timestamp]"
      ]
     },
     "execution_count": 9,
     "metadata": {},
     "output_type": "execute_result"
    }
   ],
   "source": [
    "transaction_detail_df2"
   ]
  },
  {
   "cell_type": "code",
   "execution_count": 10,
   "metadata": {},
   "outputs": [],
   "source": [
    "transaction_detail_df3 = transaction_detail_df2.select(\"transaction_detail.*\", \"timestamp\")"
   ]
  },
  {
   "cell_type": "code",
   "execution_count": 11,
   "metadata": {},
   "outputs": [],
   "source": [
    "transaction_detail_df3 = transaction_detail_df3.withColumn(\"user_id\",transaction_detail_df3[\"user_id\"].cast('int')).withColumn(\"card_number\",transaction_detail_df3[\"card_number\"].cast('long')) \\\n",
    ".withColumn(\"amount\",transaction_detail_df3[\"amount\"].cast('float')).withColumn(\"status\", lit(\"None\"))"
   ]
  },
  {
   "cell_type": "code",
   "execution_count": 12,
   "metadata": {},
   "outputs": [
    {
     "data": {
      "text/plain": [
       "DataFrame[transaction_id: string, user_id: int, card_number: bigint, amount: float, description: string, transaction_type: string, vendor: string, timestamp: timestamp]"
      ]
     },
     "execution_count": 12,
     "metadata": {},
     "output_type": "execute_result"
    }
   ],
   "source": [
    "transaction_detail_df3\n"
   ]
  },
  {
   "cell_type": "code",
   "execution_count": 13,
   "metadata": {},
   "outputs": [],
   "source": [
    "#     transaction_detail_df2 = transaction_detail_df1\\\n",
    "#         .select(from_json(col(\"value\"), transaction_detail_schema).alias(\"transaction_detail\"), \"timestamp\")\n",
    "\n",
    "#     transaction_detail_df3 = transaction_detail_df2.select(\"transaction_detail.*\", \"timestamp\")\n",
    "transaction_detail_df3 = transaction_detail_df3.createOrReplaceTempView(\"transaction_detail_df3\")\n",
    "transaction_detail_df3.withColumn('status',when(transaction_detail_df3.amount <= 70, \"APPROVED\").otherwise('DENIED'))\n",
    "# transaction_detail_df4 = spark.sql(\"SELECT * from transaction_detail_df3 where amount < 70\")\n",
    "# transaction_detail_approved = transaction_detail_df4\n",
    "# transaction_detail_df5 = spark.sql(\"SELECT * from transaction_detail_df3 where amount >= 70\")\n",
    "# transaction_detail_denied = transaction_detail_df5\n",
    "#     transaction_detail_approved = transaction_detail_df3.select(\"transaction_id\", \"user_id\", \"card_number\", \"amount\", \"description\", \"transaction_type\", \"vendor\", \"timestamp\").where(\"amount < 70\") \n",
    "\n",
    "#     transaction_detail_denied = transaction_detail_df3.select(\"transaction_id\", \"user_id\", \"card_number\", \"amount\", \"description\", \"transaction_type\", \"vendor\", \"timestamp\").where(\"amount >= 70\") "
   ]
  },
  {
   "cell_type": "code",
   "execution_count": 14,
   "metadata": {},
   "outputs": [],
   "source": [
    "    trans_detail_write_stream_approved = transaction_detail_df3 \\\n",
    "        .writeStream \\\n",
    "        .trigger(processingTime='1 seconds') \\\n",
    "        .outputMode(\"update\") \\\n",
    "        .option(\"truncate\", \"false\")\\\n",
    "        .format(\"console\") \\\n",
    "        .start()\n",
    "\n",
    "#     trans_detail_write_stream_denied = transaction_detail_denied \\\n",
    "#         .writeStream \\\n",
    "#         .trigger(processingTime='60 seconds') \\\n",
    "#         .outputMode(\"update\") \\\n",
    "#         .option(\"truncate\", \"false\")\\\n",
    "#         .format(\"console\") \\\n",
    "#         .start()"
   ]
  },
  {
   "cell_type": "code",
   "execution_count": 15,
   "metadata": {},
   "outputs": [],
   "source": [
    "# td3.writeStream \\\n",
    "#     .outputMode(\"complete\") \\\n",
    "#     .format(\"console\") \\\n",
    "#     .start()t"
   ]
  },
  {
   "cell_type": "code",
   "execution_count": null,
   "metadata": {},
   "outputs": [],
   "source": []
  }
 ],
 "metadata": {
  "kernelspec": {
   "display_name": "Python 3",
   "language": "python",
   "name": "python3"
  },
  "language_info": {
   "codemirror_mode": {
    "name": "ipython",
    "version": 3
   },
   "file_extension": ".py",
   "mimetype": "text/x-python",
   "name": "python",
   "nbconvert_exporter": "python",
   "pygments_lexer": "ipython3",
   "version": "3.7.0"
  }
 },
 "nbformat": 4,
 "nbformat_minor": 4
}
